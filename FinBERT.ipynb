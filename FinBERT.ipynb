{
 "cells": [
  {
   "cell_type": "code",
   "execution_count": null,
   "id": "94120621-039c-483f-8039-de5fcc74f45e",
   "metadata": {},
   "outputs": [],
   "source": [
    "from transformers import AutoTokenizer, AutoModelForSequenceClassification\n",
    "import torch\n",
    "# Cargar FinBERT\n",
    "model_name = \"yiyanghkust/finbert-tone\"  # el modelo FinBERT es para tonos financieros\n",
    "tokenizer = AutoTokenizer.from_pretrained(model_name)\n",
    "model = AutoModelForSequenceClassification.from_pretrained(model_name)"
   ]
  },
  {
   "cell_type": "code",
   "execution_count": null,
   "id": "19e06eb7-23a3-450c-894c-d319909205e9",
   "metadata": {},
   "outputs": [],
   "source": [
    "# tokenizar\n",
    "def preprocess_text(text):\n",
    "    inputs = tokenizer(text, padding=True, truncation=True, max_length=512, return_tensors=\"pt\")\n",
    "    return inputs"
   ]
  },
  {
   "cell_type": "code",
   "execution_count": null,
   "id": "d08140d9-de62-4d4b-a166-6d2586a9fe9e",
   "metadata": {},
   "outputs": [],
   "source": [
    "def get_sentiment_score(text):\n",
    "    inputs = preprocess_text(text)\n",
    "    with torch.no_grad():\n",
    "        outputs = model(**inputs)\n",
    "    logits = outputs.logits\n",
    "    probabilities = torch.softmax(logits, dim=1)\n",
    "    sentiment = torch.argmax(probabilities, dim=1)\n",
    "    # Regresa el sentimiento (0: negativo, 1: neutral, 2: positivo) y la probabilidad asociada\n",
    "    return sentiment.item(), probabilities[0].tolist()"
   ]
  },
  {
   "cell_type": "code",
   "execution_count": null,
   "id": "5999bad0-235d-4751-a9c1-73ad8f700dd3",
   "metadata": {},
   "outputs": [],
   "source": [
    "import pandas as pd\n",
    "import re"
   ]
  },
  {
   "cell_type": "code",
   "execution_count": null,
   "id": "2042a504-210e-4aa6-9069-c6616061b228",
   "metadata": {},
   "outputs": [],
   "source": [
    "# Limpiar\n",
    "data = pd.read_csv(\"Data_1996_Today_FED.csv\")\n",
    "def clean_text(text):\n",
    "    text = re.sub(r'[^a-zA-Z\\s]', '', text)  # Mantener solo letras y espacios\n",
    "    return text.lower()  # Convertir todo a minúsculas para uniformidad\n",
    "data[\"Speech\"] = data[\"Speech\"].fillna(\"\").astype(str)  # Rellenar NaNs y asegurar que son strings\n",
    "data[\"Speech\"] = data[\"Speech\"].apply(clean_text)\n",
    "data[\"Speech\"] = data[\"Speech\"].fillna(\"\").astype(str)\n",
    "data = data[data[\"Speech\"].apply(lambda x: isinstance(x, str))] "
   ]
  },
  {
   "cell_type": "code",
   "execution_count": null,
   "id": "7f1b750b-0590-49de-9fce-6f952ba18a62",
   "metadata": {},
   "outputs": [],
   "source": [
    "data.head()"
   ]
  },
  {
   "cell_type": "code",
   "execution_count": null,
   "id": "a6a41657-5549-45ff-a0e9-931ae34578a4",
   "metadata": {},
   "outputs": [],
   "source": [
    "# Aplicación del modelo FinBERT\n",
    "sentiments = []\n",
    "probabilities = []\n",
    "\n",
    "for speech in data[\"Speech\"]:\n",
    "    try:\n",
    "        sentiment, probability = get_sentiment_score(speech)\n",
    "        sentiments.append(sentiment)\n",
    "        probabilities.append(probability)\n",
    "    except Exception as e:\n",
    "        print(f\"Error en el discurso: {speech[:30]}... - Error: {e}\")\n",
    "        sentiments.append(None)\n",
    "        probabilities.append([None, None, None])\n",
    "\n",
    "data[\"Sentiment\"] = sentiments\n",
    "data[\"Sentiment_Probabilities\"] = probabilities"
   ]
  },
  {
   "cell_type": "code",
   "execution_count": null,
   "id": "c34d7e17-3523-4842-8ae3-7ba7f823d04b",
   "metadata": {},
   "outputs": [],
   "source": [
    "# Guardar el dataset actualizado\n",
    "data.to_csv(\"Data_1996_Today_FED_with_sentiment.csv\", index=False)\n",
    "print(\"Dataset actualizado con la columna de sentimiento agregado.\")"
   ]
  }
 ],
 "metadata": {
  "kernelspec": {
   "display_name": "Python 3 (ipykernel)",
   "language": "python",
   "name": "python3"
  },
  "language_info": {
   "codemirror_mode": {
    "name": "ipython",
    "version": 3
   },
   "file_extension": ".py",
   "mimetype": "text/x-python",
   "name": "python",
   "nbconvert_exporter": "python",
   "pygments_lexer": "ipython3",
   "version": "3.12.7"
  }
 },
 "nbformat": 4,
 "nbformat_minor": 5
}
